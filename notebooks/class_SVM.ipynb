{
 "cells": [
  {
   "cell_type": "code",
   "execution_count": 3,
   "id": "381cec00",
   "metadata": {},
   "outputs": [],
   "source": [
    "import sys\n",
    "import os\n",
    "\n",
    "project_root = os.path.abspath(\"..\")\n",
    "if project_root not in sys.path:\n",
    "    sys.path.insert(0, project_root)"
   ]
  },
  {
   "cell_type": "code",
   "execution_count": 4,
   "id": "ffdaf114",
   "metadata": {},
   "outputs": [],
   "source": [
    "import numpy as np\n",
    "import seaborn as sns\n",
    "import matplotlib.pyplot as plt\n",
    "from data.data_loader import generateGauss\n",
    "from utils.integral import grid\n",
    "from Models.classification import SVM\n",
    "from utils.kernel import Kernel"
   ]
  },
  {
   "cell_type": "code",
   "execution_count": 5,
   "id": "2c52db94",
   "metadata": {},
   "outputs": [],
   "source": [
    "h = 0.01\n",
    "x_grid = grid(h, start=-2, end=12)\n",
    "\n",
    "mu_A = [1, 1.5, 2, 2.5, 6]\n",
    "sig_A = 0.4 * np.ones_like(mu_A)\n",
    "mu_B = [4.5, 7.5, 8.5, 8, 8.5]\n",
    "sig_B = 0.9 * np.ones_like(mu_A)\n",
    "\n",
    "class1_data = generateGauss(mu_A, sig_A, x_grid)\n",
    "class2_data = generateGauss(mu_B, sig_B, x_grid)\n",
    "all_pdfs = np.vstack([class1_data, class2_data])\n",
    "\n",
    "y = np.array([0]*len(class1_data) + [1]*len(class2_data))\n",
    "n_A, n_B = len(class1_data), len(class2_data)"
   ]
  },
  {
   "cell_type": "code",
   "execution_count": 6,
   "id": "20cd3cdd",
   "metadata": {},
   "outputs": [
    {
     "name": "stdout",
     "output_type": "stream",
     "text": [
      "\n",
      "=== SVM ===\n",
      "[SVM] Accuracy: 100.00%\n",
      "[0.27029599 0.2491102  0.2509187  0.27693571 0.34049642 0.60447121\n",
      " 0.71074397 0.76537283 0.75457029 0.76537283]\n"
     ]
    }
   ],
   "source": [
    "print(\"\\n=== SVM ===\")\n",
    "\n",
    "# Tạo kernel cho training\n",
    "kc = Kernel(h=0.01, Dim=1)\n",
    "K_train = kc.L1(all_pdfs)  # (n_train, n_train)\n",
    "\n",
    "# Train SVM với precomputed kernel\n",
    "svm_model = SVM.Model(C=1)\n",
    "svm_model.fit(K_train, y)\n",
    "\n",
    "# Predict trên training set\n",
    "preds_svm = svm_model.predict(K_train)\n",
    "acc_svm = np.mean(preds_svm == y)\n",
    "print(f\"[SVM] Accuracy: {acc_svm * 100:.2f}%\")\n",
    "\n",
    "# Lấy probability (class 1) trên training set\n",
    "probas_svm = svm_model.predict_proba(K_train)[:, 1]  # xác suất lớp 1\n",
    "print(probas_svm)"
   ]
  },
  {
   "cell_type": "code",
   "execution_count": 7,
   "id": "0352402c",
   "metadata": {},
   "outputs": [
    {
     "name": "stdout",
     "output_type": "stream",
     "text": [
      "[SVM] New sample → Class: 0, Probability (class 1): 0.3940\n"
     ]
    }
   ],
   "source": [
    "new_pdf = generateGauss([3], [0.9], x_grid).ravel()\n",
    "\n",
    "# Tạo kernel giữa (train, new_sample) → (n_train, 1)\n",
    "K_full = kc.L1(np.vstack([all_pdfs, new_pdf[None, :]]))  # (n_train+1, n_train+1)\n",
    "K_new = K_full[:-1, -1][:, None]  # (n_train, 1)\n",
    "\n",
    "# Predict class và probability cho new_pdf\n",
    "pred_svm = svm_model.predict(K_new)[0]\n",
    "prob_svm = svm_model.predict_proba(K_new)[0, 1]\n",
    "print(f\"[SVM] New sample → Class: {pred_svm}, Probability (class 1): {prob_svm:.4f}\")"
   ]
  }
 ],
 "metadata": {
  "kernelspec": {
   "display_name": ".venv",
   "language": "python",
   "name": "python3"
  },
  "language_info": {
   "codemirror_mode": {
    "name": "ipython",
    "version": 3
   },
   "file_extension": ".py",
   "mimetype": "text/x-python",
   "name": "python",
   "nbconvert_exporter": "python",
   "pygments_lexer": "ipython3",
   "version": "3.12.3"
  }
 },
 "nbformat": 4,
 "nbformat_minor": 5
}
