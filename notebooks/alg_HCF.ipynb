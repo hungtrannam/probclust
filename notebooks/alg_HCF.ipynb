{
 "cells": [
  {
   "cell_type": "code",
   "execution_count": 1,
   "id": "381cec00",
   "metadata": {},
   "outputs": [],
   "source": [
    "import sys\n",
    "import os\n",
    "\n",
    "project_root = os.path.abspath(\"..\")\n",
    "if project_root not in sys.path:\n",
    "    sys.path.insert(0, project_root)"
   ]
  },
  {
   "cell_type": "code",
   "execution_count": 2,
   "id": "ffdaf114",
   "metadata": {},
   "outputs": [],
   "source": [
    "import numpy as np\n",
    "from data.data_loader import generateGauss\n",
    "from utils.integral import grid\n",
    "from Models.clustering import HCF\n",
    "from utils.vis import plot_tree"
   ]
  },
  {
   "cell_type": "code",
   "execution_count": 3,
   "id": "2c52db94",
   "metadata": {},
   "outputs": [],
   "source": [
    "bandwidth = 0.01\n",
    "grid_x    = grid(bandwidth, start=-5, end=15)\n",
    "mu        = np.array([0.3, 4.0, 9.1, 1.0, 5.5, 8.0, 4.8])\n",
    "sig       = np.array([1.0, 1.0, 1.0, 1.0, 1.0, 1.0, 1.0])\n",
    "F_data    = generateGauss(mu, sig, grid_x)"
   ]
  },
  {
   "cell_type": "code",
   "execution_count": 4,
   "id": "7be3e01e",
   "metadata": {},
   "outputs": [
    {
     "name": "stdout",
     "output_type": "stream",
     "text": [
      "├── root (7 samples): [0, 1, 2, 3, 4, 5, 6]\n",
      "│   ├── root0 (2 samples): [0, 3]\n",
      "│   │   ├── root00 (1 samples): [0]\n",
      "│   │   ├── root01 (1 samples): [3]\n",
      "│   ├── root1 (5 samples): [1, 4, 6, 2, 5]\n",
      "│   │   ├── root10 (3 samples): [1, 4, 6]\n",
      "│   │   │   ├── root100 (1 samples): [1]\n",
      "│   │   │   ├── root101 (2 samples): [4, 6]\n",
      "│   │   │   │   ├── root1010 (1 samples): [4]\n",
      "│   │   │   │   ├── root1011 (1 samples): [6]\n",
      "│   │   ├── root11 (2 samples): [2, 5]\n",
      "│   │   │   ├── root110 (1 samples): [2]\n",
      "│   │   │   ├── root111 (1 samples): [5]\n"
     ]
    }
   ],
   "source": [
    "cluster=HCF.Model(\n",
    "   grid_x=grid_x,\n",
    "   max_depth=7,\n",
    "   distance_metric='L1',\n",
    "   linkage='complete', \n",
    "   bandwidth=bandwidth\n",
    ")\n",
    "cluster.fit(F_data)\n",
    "cluster.print_tree()"
   ]
  },
  {
   "cell_type": "code",
   "execution_count": 5,
   "id": "9b488937",
   "metadata": {},
   "outputs": [
    {
     "data": {
      "image/png": "[encoded data removed]",
      "text/plain": [
       "<Figure size 400x400 with 3 Axes>"
      ]
     },
     "metadata": {},
     "output_type": "display_data"
    }
   ],
   "source": [
    "plot_tree(cluster.tree, cluster.dist_matrix)"
   ]
  }
 ],
 "metadata": {
  "kernelspec": {
   "display_name": ".venv",
   "language": "python",
   "name": "python3"
  },
  "language_info": {
   "codemirror_mode": {
    "name": "ipython",
    "version": 3
   },
   "file_extension": ".py",
   "mimetype": "text/x-python",
   "name": "python",
   "nbconvert_exporter": "python",
   "pygments_lexer": "ipython3",
   "version": "3.12.3"
  }
 },
 "nbformat": 4,
 "nbformat_minor": 5
}
