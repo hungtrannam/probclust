{
 "cells": [
  {
   "cell_type": "code",
   "execution_count": 1,
   "id": "381cec00",
   "metadata": {},
   "outputs": [],
   "source": [
    "import sys\n",
    "import os\n",
    "\n",
    "project_root = os.path.abspath(\"..\")\n",
    "if project_root not in sys.path:\n",
    "    sys.path.insert(0, project_root)"
   ]
  },
  {
   "cell_type": "code",
   "execution_count": 2,
   "id": "ffdaf114",
   "metadata": {},
   "outputs": [],
   "source": [
    "import numpy as np\n",
    "import seaborn as sns\n",
    "import matplotlib.pyplot as plt\n",
    "from data.data_loader import generateGauss\n",
    "from utils.integral import grid\n",
    "from Models.classification import NavieBayes"
   ]
  },
  {
   "cell_type": "code",
   "execution_count": 3,
   "id": "2c52db94",
   "metadata": {},
   "outputs": [],
   "source": [
    "h = 0.001\n",
    "x_grid = grid(h, start=-2, end=12)\n",
    "\n",
    "mu_0 = [1, 1.5, 2, 2.5, 6]\n",
    "sig_0 = 0.4 * np.ones_like(mu_0)\n",
    "mu_1 = [4.5, 7.5, 8.5, 8, 8.5]\n",
    "sig_1 = 0.9 * np.ones_like(mu_1)\n",
    "\n",
    "data_class0 = generateGauss(mu_0, sig_0, x_grid)\n",
    "data_class1 = generateGauss(mu_1, sig_1, x_grid)\n",
    "all_pdfs = np.vstack([data_class0, data_class1])\n",
    "\n",
    "y = np.array([0]*len(data_class0) + [1]*len(data_class1))\n",
    "n_A, n_B = len(data_class0), len(data_class1)"
   ]
  },
  {
   "cell_type": "code",
   "execution_count": 4,
   "id": "20cd3cdd",
   "metadata": {},
   "outputs": [
    {
     "name": "stdout",
     "output_type": "stream",
     "text": [
      "\n",
      "=== Logistic Regression ===\n",
      "[0 0 0 0 0 1 1 1 1 1]\n",
      "[LOGISTIC] Accuracy: 100.00%\n"
     ]
    }
   ],
   "source": [
    "# Logistic Regression\n",
    "print(\"\\n=== Logistic Regression ===\")\n",
    "\n",
    "custom_priors = {0: 0.5, 1: 0.5}\n",
    "\n",
    "nb_model = NavieBayes.Model(x_grid)\n",
    "nb_model.fit(all_pdfs, y, custom_priors)\n",
    "decision_values = nb_model.predict_proba(all_pdfs)\n",
    "preds = nb_model.predict(all_pdfs)\n",
    "print(preds)\n",
    "acc = np.mean(preds == y)\n",
    "print(f\"[LOGISTIC] Accuracy: {acc*100:.2f}%\")"
   ]
  },
  {
   "cell_type": "code",
   "execution_count": 5,
   "id": "0352402c",
   "metadata": {},
   "outputs": [
    {
     "name": "stdout",
     "output_type": "stream",
     "text": [
      "[NB] New sample → Class: [0], Probability (class 1): 0.8322451124490285\n"
     ]
    }
   ],
   "source": [
    "new_pdf = generateGauss([3], [0.9], x_grid)\n",
    "\n",
    "pred = nb_model.predict([new_pdf])\n",
    "prob = nb_model.predict_proba([new_pdf])\n",
    "\n",
    "print(f\"[NB] New sample → Class: {pred}, Probability (class 1): {prob[0][0]}\")"
   ]
  },
  {
   "cell_type": "code",
   "execution_count": 6,
   "id": "ebfb9cb5",
   "metadata": {},
   "outputs": [
    {
     "name": "stdout",
     "output_type": "stream",
     "text": [
      "Saved plot to figs/C1_NB.pdf\n"
     ]
    }
   ],
   "source": [
    "explanation = nb_model.explain(new_pdf, savefile=\"figs/C1_NB.pdf\")"
   ]
  },
  {
   "cell_type": "code",
   "execution_count": 7,
   "id": "eaff5237",
   "metadata": {},
   "outputs": [
    {
     "name": "stdout",
     "output_type": "stream",
     "text": [
      "Likelihood f(h|c): {np.int64(0): np.float64(0.15609156275429165), np.int64(1): np.float64(0.03146323380674143)}\n",
      "Posterior P(c|h): {np.int64(0): np.float64(0.8322451124490285), np.int64(1): np.float64(0.16775488755097145)}\n"
     ]
    }
   ],
   "source": [
    "print(\"Likelihood f(h|c):\", explanation[\"likelihood\"])\n",
    "print(\"Posterior P(c|h):\", explanation[\"posterior\"])"
   ]
  }
 ],
 "metadata": {
  "kernelspec": {
   "display_name": ".venv",
   "language": "python",
   "name": "python3"
  },
  "language_info": {
   "codemirror_mode": {
    "name": "ipython",
    "version": 3
   },
   "file_extension": ".py",
   "mimetype": "text/x-python",
   "name": "python",
   "nbconvert_exporter": "python",
   "pygments_lexer": "ipython3",
   "version": "3.12.3"
  }
 },
 "nbformat": 4,
 "nbformat_minor": 5
}
