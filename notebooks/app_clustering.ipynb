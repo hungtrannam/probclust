{
 "cells": [
  {
   "cell_type": "code",
   "execution_count": 1,
   "id": "33ad7614",
   "metadata": {},
   "outputs": [],
   "source": [
    "import sys\n",
    "import os\n",
    "\n",
    "project_root = os.path.abspath(\"..\")\n",
    "if project_root not in sys.path:\n",
    "    sys.path.insert(0, project_root)"
   ]
  },
  {
   "cell_type": "code",
   "execution_count": null,
   "id": "0249b45e",
   "metadata": {},
   "outputs": [],
   "source": [
    "# ========================= 0. Import =========================\n",
    "import os, cv2, numpy as np, torch, matplotlib.pyplot as plt\n",
    "from torchvision import datasets, transforms\n",
    "from torch.utils.data import ConcatDataset\n",
    "from collections import Counter\n",
    "from sklearn.neighbors import KernelDensity   # KDE\n",
    "from tqdm import tqdm\n",
    "\n",
    "# ========================= 1. Thông số =========================\n",
    "DATA_DIR = \"../dataset/Soil\"\n",
    "IMG_SIZE   = 64\n",
    "AUG_FACTOR = 5\n",
    "BINS       = 64           # vẫn giữ 32 “bin” để trực quan\n",
    "N_JOBS     = -1           # dùng hết CPU cho KDE\n",
    "\n",
    "# ========================= 2. Augmentation =========================\n",
    "train_tf = transforms.Compose([\n",
    "    transforms.RandomResizedCrop(IMG_SIZE, scale=(0.7, 1.0)),\n",
    "    transforms.RandomRotation(degrees=30),\n",
    "    transforms.RandomHorizontalFlip(p=0.5),\n",
    "    transforms.RandomVerticalFlip(p=0.5),\n",
    "   #  transforms.GaussianBlur(kernel_size=5, sigma=(0.1, 2.0)),\n",
    "    transforms.ToTensor(),                               # về [0,1]\n",
    "   #  transforms.Normalize(mean=[0.485, 0.456, 0.406],\n",
    "   #                       std =[0.229, 0.224, 0.225])\n",
    "])\n",
    "\n",
    "# ========================= 3. Dataset =========================\n",
    "original_ds = datasets.ImageFolder(DATA_DIR)\n",
    "original_counts = Counter([lbl for _, lbl in original_ds])\n",
    "print(\"📊 Số lượng mẫu GỐC theo lớp:\")\n",
    "for cls, cnt in original_counts.items():\n",
    "    print(f\"  {original_ds.classes[cls]}: {cnt}\")\n",
    "\n",
    "augmented_ds = ConcatDataset(\n",
    "    [datasets.ImageFolder(DATA_DIR, transform=train_tf) for _ in range(AUG_FACTOR)]\n",
    ")\n"
   ]
  }
 ],
 "metadata": {
  "kernelspec": {
   "display_name": "Python (intEnv)",
   "language": "python",
   "name": "intenv"
  },
  "language_info": {
   "codemirror_mode": {
    "name": "ipython",
    "version": 3
   },
   "file_extension": ".py",
   "mimetype": "text/x-python",
   "name": "python",
   "nbconvert_exporter": "python",
   "pygments_lexer": "ipython3",
   "version": "3.11.13"
  }
 },
 "nbformat": 4,
 "nbformat_minor": 5
}
