{
 "cells": [
  {
   "cell_type": "code",
   "execution_count": 1,
   "id": "f73dd0df",
   "metadata": {},
   "outputs": [],
   "source": [
    "import sys\n",
    "import os\n",
    "\n",
    "project_root = os.path.abspath(\"..\")\n",
    "if project_root not in sys.path:\n",
    "    sys.path.insert(0, project_root)"
   ]
  },
  {
   "cell_type": "code",
   "execution_count": 2,
   "id": "ec79f0dc",
   "metadata": {},
   "outputs": [],
   "source": [
    "import numpy as np\n",
    "import seaborn as sns\n",
    "import matplotlib.pyplot as plt\n",
    "from data.data_loader import generateGauss\n",
    "from utils.integral import grid\n",
    "from Models.classification import NaiveBayes\n",
    "from utils.vis import plot_beta, temp"
   ]
  },
  {
   "cell_type": "code",
   "execution_count": 3,
   "id": "7ffda0b3",
   "metadata": {},
   "outputs": [],
   "source": [
    "h = 0.01\n",
    "x_grid = grid(h, start=-2, end=12)\n",
    "\n",
    "mu_A = [1, 1.5, 2, 2.5, 6]\n",
    "sig_A = 0.4 * np.ones_like(mu_A)\n",
    "mu_B = [4.5, 7.5, 8.5, 8, 9.0]\n",
    "sig_B = 0.9 * np.ones_like(mu_A)\n",
    "\n",
    "class1_data = generateGauss(mu_A, sig_A, x_grid)\n",
    "class2_data = generateGauss(mu_B, sig_B, x_grid)\n",
    "all_pdfs = np.vstack([class1_data, class2_data])\n",
    "y = np.array([0]*len(class1_data) + [1]*len(class2_data))\n",
    "n_A, n_B = len(class1_data), len(class2_data)"
   ]
  },
  {
   "cell_type": "code",
   "execution_count": 4,
   "id": "d1cf41de",
   "metadata": {},
   "outputs": [
    {
     "name": "stdout",
     "output_type": "stream",
     "text": [
      "[fit] class=0 n=5 sigma_k≈0.4000 h_k≈0.3073 prior=0.5000\n",
      "[fit] class=1 n=5 sigma_k≈0.8994 h_k≈0.6910 prior=0.5000\n",
      "Posterior: {0: 0.827, 1: 0.173}\n",
      "Predict class: 0\n"
     ]
    }
   ],
   "source": [
    "kb = NaiveBayes.KernelBayesGrid(x_grid, verbose=True)\n",
    "kb.fit(all_pdfs, y)\n",
    "\n",
    "# giả sử bạn cũng có pdf mới h(x) trên cùng x_grid:\n",
    "h_pdf = generateGauss([3.0],[0.9], x_grid)[0]\n",
    "post = kb.posterior(h_pdf)\n",
    "yhat = kb.predict(h_pdf)\n",
    "\n",
    "print(\"Posterior:\", {c: round(p, 3) for c, p in post.items()})\n",
    "print(\"Predict class:\", yhat)"
   ]
  }
 ],
 "metadata": {
  "kernelspec": {
   "display_name": "Python 3",
   "language": "python",
   "name": "python3"
  },
  "language_info": {
   "codemirror_mode": {
    "name": "ipython",
    "version": 3
   },
   "file_extension": ".py",
   "mimetype": "text/x-python",
   "name": "python",
   "nbconvert_exporter": "python",
   "pygments_lexer": "ipython3",
   "version": "3.12.3"
  }
 },
 "nbformat": 4,
 "nbformat_minor": 5
}
